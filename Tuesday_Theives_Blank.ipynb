{
 "cells": [
  {
   "cell_type": "markdown",
   "metadata": {},
   "source": [
    "# Functions, Scoping, Data Collections 1 & List Comprehensions"
   ]
  },
  {
   "attachments": {},
   "cell_type": "markdown",
   "metadata": {},
   "source": [
    "## Tasks Today:\n",
    "\n",
    "1) String Manipulation <br>\n",
    " &nbsp;&nbsp;&nbsp;&nbsp; a) strip() <br>\n",
    " &nbsp;&nbsp;&nbsp;&nbsp; b) title() <br>\n",
    "1) Working With Lists <br>\n",
    " &nbsp;&nbsp;&nbsp;&nbsp; a) min() <br>\n",
    " &nbsp;&nbsp;&nbsp;&nbsp; b) max() <br>\n",
    " &nbsp;&nbsp;&nbsp;&nbsp; c) sum() <br>\n",
    " &nbsp;&nbsp;&nbsp;&nbsp; d) sort() <br>\n",
    " &nbsp;&nbsp;&nbsp;&nbsp; e) Copying a List <br>\n",
    " &nbsp;&nbsp;&nbsp;&nbsp; i) Checking an Empty List <br>\n",
    " &nbsp;&nbsp;&nbsp;&nbsp; j) Removing Instances with a Loop <br>\n",
    "1) List Comprehensions <br>\n",
    "2) Tuples <br>\n",
    " &nbsp;&nbsp;&nbsp;&nbsp; a) sorted() <br>\n",
    "1) Functions <br>\n",
    " &nbsp;&nbsp;&nbsp;&nbsp; a) User-Defined vs. Built-In Functions <br>\n",
    " &nbsp;&nbsp;&nbsp;&nbsp; b) Accepting Parameters <br>\n",
    " &nbsp;&nbsp;&nbsp;&nbsp; c) Default Parameters <br>\n",
    " &nbsp;&nbsp;&nbsp;&nbsp; d) Making an Argument Optional <br>\n",
    " &nbsp;&nbsp;&nbsp;&nbsp; e) Keyword Arguments <br>\n",
    " &nbsp;&nbsp;&nbsp;&nbsp; f) Returning Values <br>\n",
    " &nbsp;&nbsp;&nbsp;&nbsp; g) *args & **kwargs<br>\n",
    " &nbsp;&nbsp;&nbsp;&nbsp; h) Docstring <br>\n",
    " &nbsp;&nbsp;&nbsp;&nbsp; i) Using a User Function in a Loop <br>\n",
    "1) Scope"
   ]
  },
  {
   "cell_type": "markdown",
   "metadata": {},
   "source": [
    "### String Manipulation"
   ]
  },
  {
   "attachments": {},
   "cell_type": "markdown",
   "metadata": {},
   "source": [
    "##### .lstrip() - Remove spaces on the left side of the string"
   ]
  },
  {
   "cell_type": "code",
   "execution_count": 5,
   "metadata": {},
   "outputs": [
    {
     "name": "stdout",
     "output_type": "stream",
     "text": [
      "   d     dddkatina\n",
      "katina\n"
     ]
    }
   ],
   "source": [
    "# string.lstrip()\n",
    "# can pass argument to specify what characters to strip \n",
    "# will strip the white space\n",
    "# you can also strip characters inside the ('  ')\n",
    "# as soon as is starts to strip, it will stop after theres a new character\n",
    "\n",
    "\n",
    "txt = '   d     dddkatina'\n",
    "\n",
    "print(txt)\n",
    "new_txt = txt.lstrip(\"  d\")\n",
    "print(new_txt)"
   ]
  },
  {
   "attachments": {},
   "cell_type": "markdown",
   "metadata": {},
   "source": [
    "##### .rstrip() - Remove spaces on the right side of the string"
   ]
  },
  {
   "cell_type": "code",
   "execution_count": 7,
   "metadata": {},
   "outputs": [
    {
     "name": "stdout",
     "output_type": "stream",
     "text": [
      "dkatina            ///\n",
      "dkatina\n"
     ]
    }
   ],
   "source": [
    "# string.rstrip()\n",
    "\n",
    "txt = 'dkatina            ///'\n",
    "print(txt)\n",
    "new_txt = txt.rstrip('  /')\n",
    "print(new_txt)"
   ]
  },
  {
   "attachments": {},
   "cell_type": "markdown",
   "metadata": {},
   "source": [
    "##### .strip() - Remove spaces at the beginning and at the end of the string"
   ]
  },
  {
   "cell_type": "code",
   "execution_count": 8,
   "metadata": {},
   "outputs": [
    {
     "name": "stdout",
     "output_type": "stream",
     "text": [
      "    dkatina            ///\n",
      "dkatina\n"
     ]
    }
   ],
   "source": [
    "# string.strip() this will pull from both \n",
    "\n",
    "txt = '    dkatina            ///'\n",
    "print(txt)\n",
    "new_txt = txt.strip('  /')\n",
    "print(new_txt)\n"
   ]
  },
  {
   "attachments": {},
   "cell_type": "markdown",
   "metadata": {},
   "source": [
    "##### .title() - returns a string where the first character in every word is upper case"
   ]
  },
  {
   "cell_type": "code",
   "execution_count": 12,
   "metadata": {},
   "outputs": [
    {
     "name": "stdout",
     "output_type": "stream",
     "text": [
      "This String Wont Be Lower Case For Long\n",
      "THIS STRING WONT BE LOWER CASE FOR LONG\n",
      "this string wont be lower case for long\n"
     ]
    }
   ],
   "source": [
    "# string.title()\n",
    "# even if you have all caps in there \n",
    "\n",
    "text = \"this string WONT be lower case for long\"\n",
    "new_text = text.title()\n",
    "print(new_text)\n",
    "\n",
    "uppercase = text.upper()\n",
    "print(uppercase)\n",
    "\n",
    "lowercase = text.lower()\n",
    "print(lowercase)\n",
    "\n"
   ]
  },
  {
   "cell_type": "markdown",
   "metadata": {},
   "source": [
    "### String Exercise <br>\n",
    "<p>Strip all white space and capitalize every name in the list given</p>"
   ]
  },
  {
   "cell_type": "code",
   "execution_count": 24,
   "metadata": {},
   "outputs": [
    {
     "name": "stdout",
     "output_type": "stream",
     "text": [
      "Connor\n",
      "Max\n",
      "Evan\n",
      "Jordan\n"
     ]
    }
   ],
   "source": [
    "names = ['    coNNor', 'max', ' EVan ', 'JORDAN']\n",
    "# HINT: You will need to use a for loop for iteration\n",
    "\n",
    "for name in names:\n",
    "    print(name.strip().title())\n",
    "\n"
   ]
  },
  {
   "cell_type": "markdown",
   "metadata": {},
   "source": [
    "### Working With Lists"
   ]
  },
  {
   "attachments": {},
   "cell_type": "markdown",
   "metadata": {},
   "source": [
    "##### min() - returns the item with the lowest value, or the item with the lowest value in an iterable."
   ]
  },
  {
   "cell_type": "code",
   "execution_count": 25,
   "metadata": {},
   "outputs": [
    {
     "name": "stdout",
     "output_type": "stream",
     "text": [
      "1\n"
     ]
    }
   ],
   "source": [
    "# min(list)\n",
    "# do not name list min - try to use another name \n",
    "\n",
    "alist = [1,2,3,4,5,6,7,8,9]\n",
    "\n",
    "lowest = min(alist)\n",
    "\n",
    "print(lowest)\n",
    "\n",
    "\n"
   ]
  },
  {
   "attachments": {},
   "cell_type": "markdown",
   "metadata": {},
   "source": [
    "##### max() - returns the item with the highest value, or the item with the highest value in an iterable."
   ]
  },
  {
   "cell_type": "code",
   "execution_count": 29,
   "metadata": {},
   "outputs": [
    {
     "name": "stdout",
     "output_type": "stream",
     "text": [
      "9\n"
     ]
    }
   ],
   "source": [
    "# max(list)\n",
    "\n",
    "largest = max(alist)\n",
    "print(largest)\n",
    "\n",
    "\n"
   ]
  },
  {
   "attachments": {},
   "cell_type": "markdown",
   "metadata": {},
   "source": [
    "##### sum() - returns a number, the sum of all items in an iterable."
   ]
  },
  {
   "cell_type": "code",
   "execution_count": 30,
   "metadata": {},
   "outputs": [
    {
     "name": "stdout",
     "output_type": "stream",
     "text": [
      "45\n"
     ]
    }
   ],
   "source": [
    "# sum(list)\n",
    "\n",
    "alist = [1,2,3,4,5,6,7,8,9]\n",
    "\n",
    "total = sum(alist)\n",
    "\n",
    "print(total)"
   ]
  },
  {
   "attachments": {},
   "cell_type": "markdown",
   "metadata": {},
   "source": [
    "##### sorted() - returns a sorted list of the specified iterable object."
   ]
  },
  {
   "cell_type": "code",
   "execution_count": 33,
   "metadata": {},
   "outputs": [
    {
     "name": "stdout",
     "output_type": "stream",
     "text": [
      "[111, 2, 3, 4, 5, 0, -6, 7, 8, 9]\n",
      "[111, 9, 8, 7, 5, 4, 3, 2, 0, -6]\n"
     ]
    }
   ],
   "source": [
    "# sorted(list)\n",
    "# sorted DOES NOT effect the original list, it returns a copy\n",
    "# can pass argument to reverse sorted order\n",
    "# you can use the reverse key in there\n",
    "alist = [111,2,3,4,5,0,-6,7,8,9]\n",
    "\n",
    "print(alist)\n",
    "\n",
    "sorted_list = sorted(alist, reverse=True)\n",
    "\n",
    "print(sorted_list)\n",
    "\n",
    "\n"
   ]
  },
  {
   "cell_type": "markdown",
   "metadata": {},
   "source": [
    "##### .sort() <br>\n",
    "<p>Difference between sort and sorted, is that sorted doesn't change original list it returns a copy, while .sort changes the original list</p>"
   ]
  },
  {
   "cell_type": "code",
   "execution_count": 34,
   "metadata": {},
   "outputs": [
    {
     "name": "stdout",
     "output_type": "stream",
     "text": [
      "[-6, 0, 2, 3, 4, 5, 7, 8, 9, 111]\n"
     ]
    }
   ],
   "source": [
    "# list.sort()\n",
    "# use sorted when you don't want to alter original list, use .sort() when you want to alter original list\n",
    "\n",
    "alist = [111,2,3,4,5,0,-6,7,8,9]\n",
    "\n",
    "alist.sort()\n",
    "\n",
    "print(alist)\n",
    "\n",
    "\n",
    "\n"
   ]
  },
  {
   "cell_type": "markdown",
   "metadata": {},
   "source": [
    "##### Copying a List"
   ]
  },
  {
   "cell_type": "code",
   "execution_count": 37,
   "metadata": {},
   "outputs": [
    {
     "name": "stdout",
     "output_type": "stream",
     "text": [
      "['Sam', 'Omar', 'Justin', 'Mitchell', 'Oakland']\n",
      "['Sam', 'Omar', 'Justin']\n",
      "['Sam', 'Omar', 'Justin', 'Mitchell', 'Oakland']\n"
     ]
    }
   ],
   "source": [
    "# [:] copies a list, doesn't alter original\n",
    "# .copy() method\n",
    "# the default behavior is to start at the beginning and go to the end\n",
    "\n",
    "stus = ['Sam', 'Omar', 'Justin', 'Mitchell', 'Oakland']\n",
    "# copy_stus = stus\n",
    "\n",
    "# print(copy_stus)\n",
    "# popped = copy_stus.pop()\n",
    "print(stus)\n",
    "\n",
    "new_stus = stus[:3]\n",
    "print(new_stus)\n",
    "\n",
    "method_copy = stus.copy()\n",
    "print(method_copy)\n",
    "\n"
   ]
  },
  {
   "cell_type": "markdown",
   "metadata": {},
   "source": [
    "##### Checking an Empty List"
   ]
  },
  {
   "cell_type": "code",
   "execution_count": 42,
   "metadata": {},
   "outputs": [
    {
     "name": "stdout",
     "output_type": "stream",
     "text": [
      "nothing here\n"
     ]
    }
   ],
   "source": [
    "# if list1: or if list1 == []:\n",
    "\n",
    "# mylist = ['full']\n",
    "\n",
    "# if mylist:\n",
    "#     print('we got something')\n",
    "# else:\n",
    "#     print('nothing here')\n",
    "\n",
    "mylist = ''\n",
    "\n",
    "if mylist:\n",
    "    print('we got something')\n",
    "else:\n",
    "    print('nothing here')\n",
    "\n"
   ]
  },
  {
   "cell_type": "markdown",
   "metadata": {},
   "source": [
    "##### Removing Instances with a Loop"
   ]
  },
  {
   "cell_type": "code",
   "execution_count": 48,
   "metadata": {},
   "outputs": [
    {
     "name": "stdout",
     "output_type": "stream",
     "text": [
      "['Britt', 'Faith', 'Marcos', 'Jake', 'Faith']\n",
      "removing\n",
      "removing\n",
      "['Britt', 'Marcos', 'Jake']\n"
     ]
    }
   ],
   "source": [
    "# while & for, remove\n",
    "# if they are consecutive, it will sometimes mess the if loop\n",
    "# use while loop instead\n",
    "\n",
    "students = ['Britt', 'Faith', 'Marcos', 'Jake','Faith']\n",
    "\n",
    "# students.remove('Faith')\n",
    "\n",
    "# print(students)\n",
    "\n",
    "#this will only remove the first one\n",
    "\n",
    "# while 'Faith' in students:\n",
    "#     students.remove('Faith')\n",
    "# print(students)\n",
    "\n",
    "for student in students:\n",
    "    if student == 'Faith':\n",
    "        print('removing')\n",
    "        students.remove('Faith')\n",
    "\n",
    "print(students)\n",
    "\n",
    "\n"
   ]
  },
  {
   "cell_type": "markdown",
   "metadata": {},
   "source": [
    "### List Exercise <br>\n",
    "<p>Remove all duplicates<br><b>Extra: Create a program that will remove any duplicates from a given list</b></p>"
   ]
  },
  {
   "cell_type": "code",
   "execution_count": 50,
   "metadata": {},
   "outputs": [
    {
     "name": "stdout",
     "output_type": "stream",
     "text": [
      "['connor', 'bob', 'evan', 'max', 2, 3, 4, 'kevin']\n",
      "['connor', 'bob', 'evan', 'max', 2, 3, 4, 'kevin']\n"
     ]
    }
   ],
   "source": [
    "names = ['connor', 'connor', 'bob', 'connor', 'evan', 'max', 'evan', 2, 2, 2, 3, 3, 4, 'bob', 'kevin']\n",
    "# Hint 1: You will need an append\n",
    "# Hint 2: Using an empty list will make life easier\n",
    "\n",
    "new_names = []\n",
    "\n",
    "for name in names:\n",
    "    while name not in new_names:\n",
    "        new_names.append(name)\n",
    "print(new_names)\n",
    "\n",
    "\n",
    "# or \n",
    "\n",
    "new_names = []\n",
    "for name in names:\n",
    "    if name not in new_names:\n",
    "        new_names.append(name)\n",
    "print(new_names)\n"
   ]
  },
  {
   "attachments": {},
   "cell_type": "markdown",
   "metadata": {},
   "source": [
    "#### List Comprehension - offers a shorter syntax when you want to create a new list based on the values of an existing list."
   ]
  },
  {
   "attachments": {},
   "cell_type": "markdown",
   "metadata": {},
   "source": [
    "#### Syntax - newlist = [expression for item in iterable if condition == True]\n",
    "##### The return value is a new list, leaving the old list unchanged.\n",
    "##### The condition is like a filter that only accepts the items that valuate to True."
   ]
  },
  {
   "cell_type": "code",
   "execution_count": 2,
   "metadata": {},
   "outputs": [
    {
     "name": "stdout",
     "output_type": "stream",
     "text": [
      "['Dylan', 'Dylan', 'Dylan', 'Dylan', 'Dylan', 'Dylan', 'Dylan', 'Dylan', 'Dylan', 'Dylan']\n",
      "['Dylan', 'Dylan', 'Dylan', 'Dylan', 'Dylan', 'Dylan', 'Dylan', 'Dylan', 'Dylan', 'Dylan']\n"
     ]
    }
   ],
   "source": [
    "# number list comprehension\n",
    "\n",
    "# With a regular for loop\n",
    "me_list = []\n",
    "for me in range(10):\n",
    "    me_list.append('Dylan')\n",
    "\n",
    "print(me_list)\n",
    "\n",
    "# List Comprehension\n",
    "\n",
    "#var =    [add this | for each item |  in a list]\n",
    "list_comp = ['Dylan' for me in range(10)]\n",
    "\n",
    "print(list_comp)\n",
    "\n"
   ]
  },
  {
   "attachments": {},
   "cell_type": "markdown",
   "metadata": {},
   "source": [
    "There are a few benefits to using List comprehensions. The most obvious would be that we now have shorter code to work with instead of using 3+ lines of code in the for loop variant.\n",
    "\n",
    "More time-efficient and space-efficient than loops.\n",
    "\n",
    "Lastly, list comprehensions are considered the \"pythonic\" way to write code."
   ]
  },
  {
   "cell_type": "code",
   "execution_count": 67,
   "metadata": {},
   "outputs": [
    {
     "name": "stdout",
     "output_type": "stream",
     "text": [
      "[0, 1, 4, 9, 16, 25, 36, 49, 64, 81]\n",
      "[0, 1, 4, 9, 16, 25, 36, 49, 64, 81]\n"
     ]
    }
   ],
   "source": [
    "# square number list comprehension\n",
    "\n",
    "# With a reg for loop\n",
    "\n",
    "squares = []\n",
    "for num in range(10):\n",
    "    squares.append(num**2)\n",
    "\n",
    "print(squares)\n",
    "\n",
    "# List Comprehension\n",
    "\n",
    "new_squares = [num**2 for num in range(10)]\n",
    "print(new_squares)"
   ]
  },
  {
   "cell_type": "code",
   "execution_count": 65,
   "metadata": {},
   "outputs": [
    {
     "name": "stdout",
     "output_type": "stream",
     "text": [
      "['Christian', 'Marcos', 'Jennifer', 'Deven']\n",
      "['Christian', 'Marcos', 'Jennifer', 'Deven']\n"
     ]
    }
   ],
   "source": [
    "# string list comprehension\n",
    "students = ['ChrISTian', 'MarCoS', 'JEnnifer', 'DeVen']\n",
    "\n",
    "# With a reg for loop\n",
    "corrected = []\n",
    "for student in students:\n",
    "    corrected.append(student.title())\n",
    "print(corrected)\n",
    "\n",
    "# List Comprehension\n",
    "\n",
    "list_comp_corrected = [student.title() for student in students]\n",
    "print(list_comp_corrected)"
   ]
  },
  {
   "attachments": {},
   "cell_type": "markdown",
   "metadata": {},
   "source": [
    "### Tuples - Collection which is ordered, unchangeable, and allow duplicate values."
   ]
  },
  {
   "cell_type": "code",
   "execution_count": 71,
   "metadata": {},
   "outputs": [
    {
     "name": "stdout",
     "output_type": "stream",
     "text": [
      "123\n",
      "345\n",
      "678\n"
     ]
    }
   ],
   "source": [
    "codes = (123, 345, 678)\n",
    "codes2 = [342,4523,254]\n",
    "\n",
    "\n",
    "\n",
    "# for loop with tuple\n",
    "\n",
    "for num in codes:\n",
    "    print(num)\n",
    "\n"
   ]
  },
  {
   "cell_type": "markdown",
   "metadata": {},
   "source": [
    "##### sorted()"
   ]
  },
  {
   "cell_type": "code",
   "execution_count": 76,
   "metadata": {},
   "outputs": [
    {
     "name": "stdout",
     "output_type": "stream",
     "text": [
      "(6942069, 123, 345)\n",
      "(123, 345, 6942069)\n"
     ]
    }
   ],
   "source": [
    "codes = (6942069, 123, 345, )\n",
    "\n",
    "print(codes)\n",
    "\n",
    "new_codes = sorted(codes)\n",
    "\n",
    "print(tuple(new_codes))\n",
    "\n",
    "# so we fed a list into a touple it turned back a list\n",
    "\n"
   ]
  },
  {
   "cell_type": "markdown",
   "metadata": {},
   "source": [
    "##### Adding values to a Tuple"
   ]
  },
  {
   "cell_type": "code",
   "execution_count": 78,
   "metadata": {},
   "outputs": [
    {
     "name": "stdout",
     "output_type": "stream",
     "text": [
      "1699233922624\n",
      "1699235414592\n",
      "(123, 876, 543)\n"
     ]
    }
   ],
   "source": [
    "codes = (6942069, 123, 345)\n",
    "print(id(codes))\n",
    "\n",
    "\n",
    "new_codes = (123, 876, 543)\n",
    "\n",
    "codes = codes = new_codes\n",
    "print(id(codes))\n",
    "\n",
    "print(codes)"
   ]
  },
  {
   "cell_type": "markdown",
   "metadata": {},
   "source": [
    "## Functions"
   ]
  },
  {
   "cell_type": "markdown",
   "metadata": {},
   "source": [
    "##### User-Defined vs. Built-In Functions"
   ]
  },
  {
   "cell_type": "code",
   "execution_count": 80,
   "metadata": {},
   "outputs": [
    {
     "name": "stdout",
     "output_type": "stream",
     "text": [
      "<function greeting at 0x0000018BA24BBF60>\n",
      "hello fren\n"
     ]
    }
   ],
   "source": [
    "#User-defined\n",
    "\n",
    "def greeting():\n",
    "    return \"hello fren\"\n",
    "\n",
    "\n",
    "#Built-In print, showing the function in memory\n",
    "\n",
    "print(greeting)\n",
    "\n",
    "\n",
    "#Built-in print, calling the function\n",
    "\n",
    "print(greeting())\n"
   ]
  },
  {
   "cell_type": "markdown",
   "metadata": {},
   "source": [
    "##### Accepting Parameters"
   ]
  },
  {
   "cell_type": "code",
   "execution_count": 82,
   "metadata": {},
   "outputs": [
    {
     "name": "stdout",
     "output_type": "stream",
     "text": [
      "my full name is omar gonzalez\n"
     ]
    }
   ],
   "source": [
    "# Order matters\n",
    "# A variable can be of any type of object\n",
    "\n",
    "def full_name(first,last):\n",
    "    return f'my full name is {first} {last}'\n",
    "\n",
    "print(full_name('omar', 'gonzalez'))"
   ]
  },
  {
   "cell_type": "markdown",
   "metadata": {},
   "source": [
    "##### Default Parameters"
   ]
  },
  {
   "cell_type": "code",
   "execution_count": 85,
   "metadata": {},
   "outputs": [
    {
     "name": "stdout",
     "output_type": "stream",
     "text": [
      "This is the Thieves cohort, taught by Christian, and Dylan\n"
     ]
    }
   ],
   "source": [
    "# default parameters need to be AFTER non-default parameters at all times\n",
    "\n",
    "def class_info(ins1, ins2, cohort='Thieves'):\n",
    "    return f'This is the {cohort} cohort, taught by {ins1}, and {ins2}'\n",
    "\n",
    "# print(class_info('Christian', 'Dylan', 'Thieves-126'))\n",
    "# default variables need to come after defined variables so:\n",
    "# you have to arrange default variables to come after the defined variables \n",
    "\n",
    "print(class_info('Christian', 'Dylan'))\n",
    "\n",
    "\n",
    "\n"
   ]
  },
  {
   "cell_type": "markdown",
   "metadata": {},
   "source": [
    "##### Making an Argument Optional"
   ]
  },
  {
   "cell_type": "code",
   "execution_count": 86,
   "metadata": {},
   "outputs": [
    {
     "name": "stdout",
     "output_type": "stream",
     "text": [
      "dylan \"hurricane\" katina\n"
     ]
    }
   ],
   "source": [
    "def nickname(first, last, nickname=''):\n",
    "    if nickname:\n",
    "        print(f'{first} \"{nickname}\" {last}')\n",
    "    else:\n",
    "        print(f'{first}  {last}')\n",
    "    \n",
    "nickname('dylan', 'katina', 'hurricane')\n"
   ]
  },
  {
   "cell_type": "markdown",
   "metadata": {},
   "source": [
    "# Creating a start, stop, step function"
   ]
  },
  {
   "cell_type": "code",
   "execution_count": 88,
   "metadata": {},
   "outputs": [
    {
     "name": "stdout",
     "output_type": "stream",
     "text": [
      "[0, 1, 2, 3, 4, 5, 6, 7, 8, 9]\n"
     ]
    }
   ],
   "source": [
    "def my_range(stop, start=0, step=1):\n",
    "    output=[]\n",
    "    for num in range(start,stop,step):\n",
    "        output.append(num)\n",
    "    return(output)\n",
    "\n",
    "print(my_range(10))\n"
   ]
  },
  {
   "cell_type": "markdown",
   "metadata": {},
   "source": [
    "##### Returning Values"
   ]
  },
  {
   "cell_type": "code",
   "execution_count": 92,
   "metadata": {},
   "outputs": [
    {
     "name": "stdout",
     "output_type": "stream",
     "text": [
      "Hello\n"
     ]
    }
   ],
   "source": [
    "# see above\n",
    "\n",
    "# def greeting2():\n",
    "#     print('hello')\n",
    "\n",
    "def greeting():\n",
    "    return \"Hello\"\n",
    "\n",
    "greet = greeting()\n",
    "\n",
    "print(greet)\n"
   ]
  },
  {
   "attachments": {},
   "cell_type": "markdown",
   "metadata": {},
   "source": [
    "##### *args/**kwargs (A.K.A. KeyWord Arguments)##### *args"
   ]
  },
  {
   "cell_type": "code",
   "execution_count": 101,
   "metadata": {},
   "outputs": [
    {
     "name": "stdout",
     "output_type": "stream",
     "text": [
      "This is the Thieves Cohort\n",
      "taught by Christian and Dylan\n",
      "our students are ('Sam', 'Justin', 'Oakland')\n",
      "Sam\n",
      "Justin\n",
      "Oakland\n",
      "hi my name is Christian\n",
      "this is my routine:\n",
      "{'morning': 'wake up at 3am', 'mid_morning': 'run', 'mid_day': 'eat', 'evening': 'teach'}\n"
     ]
    }
   ],
   "source": [
    "# *args = unlimited amount of arguments, function stores as tuple\n",
    "# additional arguments - if you dont know how muc data will be dumped on you \n",
    "\n",
    "\n",
    "def thieves(ins1, ins2, *students):\n",
    "    print(\"This is the Thieves Cohort\")\n",
    "    print(f'taught by {ins1} and {ins2}')\n",
    "    print(f'our students are {students}')\n",
    "    for student in students:\n",
    "        print(student)\n",
    "\n",
    "thieves('Christian', 'Dylan', 'Sam', 'Justin', 'Oakland')\n",
    "\n",
    "# **kwargs = unlimited amount of keyword arguments, function stores as dictionary\n",
    "\n",
    "# def my_routine(person, **dailies):\n",
    "#     print(f'hi my name is {person}')\n",
    "#     print('this is my routine:')\n",
    "#     print(dailies)\n",
    "\n",
    "# my_routine('dylan', morning='wake up and take my dog out', mid_day='eat', evening='teach')\n",
    "\n",
    "def my_routine(person, **dailies):\n",
    "    print(f'hi my name is {person}')\n",
    "    print('this is my routine:')\n",
    "    print(dailies)\n",
    "\n",
    "my_routine('Christian', morning='wake up at 3am',mid_morning='run', mid_day='eat', evening='teach')\n"
   ]
  },
  {
   "attachments": {},
   "cell_type": "markdown",
   "metadata": {},
   "source": [
    "##### Docstring - Multi-line Comment"
   ]
  },
  {
   "cell_type": "code",
   "execution_count": 102,
   "metadata": {},
   "outputs": [
    {
     "name": "stdout",
     "output_type": "stream",
     "text": [
      "3\n",
      "Help on function adding in module __main__:\n",
      "\n",
      "adding(x, y)\n",
      "    this function takes in 2 intergers, addds them, \n",
      "    and returns the sum\n",
      "\n"
     ]
    }
   ],
   "source": [
    "# Allows you to write documentation for user-defined functions\n",
    "# helps you put in logic to add notes on hard functions\n",
    "\n",
    "def adding(x, y):\n",
    "    '''\n",
    "        this function takes in 2 intergers, addds them, \n",
    "        and returns the sum\n",
    "    '''\n",
    "\n",
    "    return x + y\n",
    "\n",
    "print(adding(1,2))\n",
    "\n",
    "help(adding)\n"
   ]
  },
  {
   "cell_type": "markdown",
   "metadata": {},
   "source": [
    "##### Using a User Function in a Loop"
   ]
  },
  {
   "cell_type": "code",
   "execution_count": 105,
   "metadata": {},
   "outputs": [
    {
     "name": "stdout",
     "output_type": "stream",
     "text": [
      "I love Learning\n",
      "running inner function\n",
      "I love Learning\n",
      "running inner function\n",
      "I love Learning\n",
      "running inner function\n",
      "I love Learning\n",
      "running inner function\n",
      "I love Learning\n",
      "running inner function\n",
      "I love Learning\n",
      "running inner function\n",
      "I love Learning\n",
      "running inner function\n",
      "I love Learning\n",
      "running inner function\n",
      "I love Learning\n",
      "running inner function\n",
      "I love Learning\n",
      "running inner function\n"
     ]
    }
   ],
   "source": [
    "def add_one(num):\n",
    "    print('running inner function')\n",
    "    return num + 1\n",
    "\n",
    "i = 0\n",
    "while i < 10:\n",
    "    print('I love Learning')\n",
    "    i = add_one (i)"
   ]
  },
  {
   "cell_type": "markdown",
   "metadata": {},
   "source": [
    "## Function Exercise <br>\n",
    "<p>Write a function that loops through a list of first_names and a list of last_names, combines the two and return a list of full_names</p>"
   ]
  },
  {
   "cell_type": "code",
   "execution_count": 108,
   "metadata": {},
   "outputs": [
    {
     "name": "stdout",
     "output_type": "stream",
     "text": [
      "['John Smith']\n"
     ]
    }
   ],
   "source": [
    "first_name = ['John', 'Evan', 'Jordan', 'Max']\n",
    "last_name = ['Smith', 'Smith', 'Williams', 'Bell']\n",
    "\n",
    "# Output: ['John Smith', 'Evan Smith', 'Jordan Williams', 'Max Bell']\n",
    "\n",
    "\n",
    "\n",
    "# def combined_names(first_name, last_name):\n",
    "#     full_name = []\n",
    "\n",
    "#     for name in first_name:\n",
    "#         full\n",
    "\n",
    "\n",
    "# return combined_names\n",
    "\n",
    "def fulls(firsts,lasts):\n",
    "    full_name = []\n",
    "    for index in range(len(firsts)):\n",
    "        full_name.append(firsts[index] + ' ' + lasts[index])\n",
    "        return(full_name)\n",
    "\n",
    "\n",
    "print(fulls(first_name, last_name))\n",
    "\n",
    "\n",
    "# first_name = ['John', 'Evan', 'Jordan', 'Max']\n",
    "# last_name = ['Smith', 'Smith', 'Williams', 'Bell']\n",
    "# def myname(me_first=first_name, me_last=last_name):\n",
    "#     full_names = []\n",
    "#     for first, last in zip(me_first, me_last):\n",
    "#         full_names.append(f\"{first} {last}\")\n",
    "#     return full_names\n",
    "# print(myname())\n",
    "\n",
    "\n"
   ]
  },
  {
   "attachments": {},
   "cell_type": "markdown",
   "metadata": {},
   "source": [
    "## Scope <br>\n",
    "<p>Scope refers to the ability to access variables, different types of scope include:<br>a) Global<br>b) Function (local)</p>"
   ]
  },
  {
   "cell_type": "code",
   "execution_count": 110,
   "metadata": {},
   "outputs": [
    {
     "name": "stdout",
     "output_type": "stream",
     "text": [
      "1\n",
      "2\n"
     ]
    }
   ],
   "source": [
    "# Global - its not in a box or defined by function or if statements \n",
    "\n",
    "num = 10 \n",
    "\n",
    "# Local\n",
    "\n",
    "def locals():\n",
    "    counter = 1\n",
    "    print(counter)\n",
    "\n",
    "    this_var = new_var\n",
    "    if num == 10:\n",
    "        counter += 1\n",
    "        new_var = 52\n",
    "    else:\n",
    "        print('new else scope')\n",
    "\n",
    "    while counter < 10:\n",
    "        # i have another new scope\n",
    "        if num == 10:\n",
    "\n",
    "\n"
   ]
  },
  {
   "cell_type": "markdown",
   "metadata": {},
   "source": [
    "# Exercises"
   ]
  },
  {
   "cell_type": "markdown",
   "metadata": {},
   "source": [
    "## Exercise 1 <br>\n",
    "<p>Given a list as a parameter,write a function that returns a list of numbers that are less than ten</b></i></p><br>\n",
    "<p> For example: Say your input parameter to the function is [1,11,14,5,8,9]...Your output should [1,5,8,9]</p>"
   ]
  },
  {
   "cell_type": "code",
   "execution_count": 18,
   "metadata": {},
   "outputs": [
    {
     "name": "stdout",
     "output_type": "stream",
     "text": [
      "[1, 5, 8, 9]\n",
      "[1, 5, 8, 9]\n"
     ]
    }
   ],
   "source": [
    "# Use the following list - [1,11,14,5,8,9]\n",
    "# need to create list  of numbers <10 store in blist\n",
    "# loop through list \n",
    "#check each number in list if are less than 10\n",
    "# \n",
    "#return list of nums <10\n",
    "# output should be the def plus the variable you want to put in to run the function. remember, for this to work, you need to return, then run it with the list assigned using the given element  \n",
    "\n",
    "\n",
    "l_1 = [1,11,14,5,8,9]\n",
    "\n",
    "\n",
    "def small_nums(alist):\n",
    "    blist = []\n",
    "    # for loop iterates through all numbers in the list\n",
    "    for num in alist:\n",
    "        # within the loop, check  if current num is less than 10\n",
    "        if num < 10:\n",
    "            blist.append(num)\n",
    "            '''\n",
    "            if it is, APPEND  to blist - \n",
    "            '''\n",
    "    \n",
    "    return blist \n",
    "output = small_nums(l_1)\n",
    "\n",
    "print(output)\n",
    "\n",
    "\n",
    "# great success! but i had to take several breaks,and took over an hour. Is that normal length for something that at the end now seems so simple? \n",
    "\n",
    "# will write differnently to make it easier to read once i broke it down i can play with it\n",
    "\n",
    "def smallnums(list1):\n",
    "    list2 = []\n",
    "    for num in list1:\n",
    "        if num < 10:\n",
    "            list2.append(num)\n",
    "        \n",
    "\n",
    "    return list2\n",
    "output = smallnums(l_1)\n",
    "\n",
    "print(output)\n",
    "            \n",
    "\n",
    "\n",
    "    \n"
   ]
  },
  {
   "cell_type": "markdown",
   "metadata": {},
   "source": [
    "## Exercise 2 <br>\n",
    "<p>Write a function that takes in two lists and returns the two lists merged together and sorted<br>\n",
    "<b><i>Hint: You can use the .sort() method</i></b></p>"
   ]
  },
  {
   "cell_type": "code",
   "execution_count": 22,
   "metadata": {},
   "outputs": [
    {
     "name": "stdout",
     "output_type": "stream",
     "text": [
      "[1, 2, 3, 3, 4, 4, 5, 5, 6, 6, 7, 8, 10]\n"
     ]
    }
   ],
   "source": [
    "\n",
    "# first brute attempt with no notes:\n",
    "\n",
    "# Cell In[19], line 10\n",
    "#       7         list1.sort().append(num) + list2.sort().append(num)\n",
    "#       8     return merged_list\n",
    "# ---> 10 output = combined_list(l_1 + l_2)\n",
    "#      11 print(output)\n",
    "\n",
    "# TypeError: combined_list() missing 1 required positional argument: 'list2'\n",
    "\n",
    "# now i can look at the issues and break down how to fix it.\n",
    "\n",
    "# need list1 + list2 in a list\n",
    "# need to sort that list\n",
    "# .sort()  list in ascending order\n",
    "# now get it tol print\n",
    "# assign the combined_list the two list in example, call it output - or whatever name - and print that to run the two lists through your function\n",
    "\n",
    "l_1 = [1,2,3,4,5,6]\n",
    "l_2 = [3,4,5,6,7,8,10]\n",
    "\n",
    "def combined_list(list1, list2):\n",
    "\n",
    "    merged_list = list1 + list2 #<--- we know it is going to be list1 + list2 so we dont need []\n",
    "    merged_list.sort()\n",
    "\n",
    "    return merged_list\n",
    "\n",
    "output = combined_list(l_1, l_2)\n",
    "print(output)\n",
    "    \n",
    "\n",
    "\n",
    "\n",
    "\n",
    "\n"
   ]
  }
 ],
 "metadata": {
  "kernelspec": {
   "display_name": "Python 3",
   "language": "python",
   "name": "python3"
  },
  "language_info": {
   "codemirror_mode": {
    "name": "ipython",
    "version": 3
   },
   "file_extension": ".py",
   "mimetype": "text/x-python",
   "name": "python",
   "nbconvert_exporter": "python",
   "pygments_lexer": "ipython3",
   "version": "3.11.4"
  },
  "vscode": {
   "interpreter": {
    "hash": "aa82987a71ca0339a52998cd22613b0c002bda8349fa32a0cb67ceec3936a2bf"
   }
  }
 },
 "nbformat": 4,
 "nbformat_minor": 2
}
